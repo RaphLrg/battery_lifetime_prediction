{
 "cells": [
  {
   "cell_type": "code",
   "execution_count": 5,
   "id": "f2f11fb0",
   "metadata": {},
   "outputs": [],
   "source": [
    "import matplotlib.pyplot as plt\n",
    "import numpy as np\n",
    "import os\n",
    "import pickle\n",
    "from IPython.display import clear_output\n",
    "import sklearn\n",
    "from sklearn.model_selection import train_test_split\n",
    "from sklearn.gaussian_process import GaussianProcessRegressor\n",
    "from sklearn.gaussian_process.kernels import RBF\n",
    "from sklearn.preprocessing import StandardScaler\n",
    "from sklearn import linear_model\n",
    "from sklearn.ensemble import RandomForestClassifier\n",
    "from sklearn.svm import SVR\n",
    "from sklearn import linear_model\n",
    "from sklearn.svm import SVC\n",
    "from sklearn.metrics import accuracy_score\n",
    "from sklearn.metrics import confusion_matrix, accuracy_score\n",
    "from sklearn.model_selection import GridSearchCV\n",
    "\n",
    "\n",
    "def RMSE(predictions, targets):\n",
    "    return np.sqrt(((predictions - targets) ** 2).mean())\n",
    "def MAPE(Y_Predicted,Y_actual):\n",
    "    mape = np.mean(np.abs((Y_actual - Y_Predicted)/Y_actual))*100\n",
    "    return mape\n",
    "\n",
    "#chargement des variables et supression des samples défectueux\n",
    "variables = pickle.load(open(r'jeu_variables_mmm.pkl','rb'))\n",
    "entetes = np.array(variables['X']).reshape(22,141)[:,0]\n",
    "X = np.array(variables['X']).reshape(22,141)[:,1:141].T.astype('float')\n",
    "Y = np.array(variables['Y']).reshape(140).astype('float')\n",
    "remove_bat = [8, 10, 12, 13, 22, 96, 117, 126, 136, 137]\n",
    "X_clean = np.delete(X, remove_bat, 0)\n",
    "Y_clean = np.delete(Y, remove_bat)\n",
    "X = X_clean\n",
    "Y = Y_clean\n",
    "index_valeurs_faibles = np.where(Y < 350)\n",
    "index_valeurs_fortes = np.where(Y > 1350)\n",
    "index_a_enlever = np.concatenate((index_valeurs_faibles, index_valeurs_fortes), axis=None)\n",
    "X = np.delete(X, index_a_enlever, 0)\n",
    "Y = np.delete(Y, index_a_enlever)\n",
    "\n",
    "#classification des samples en fonction de la durée de vie\n",
    "Y = Y//330\n",
    "\n",
    "#from sklearn.model_selection import train_test_split\n",
    "#X_train, X_test, Y_train, Y_test = train_test_split(X, Y, shuffle=True, test_size=1/3, stratify=Y)\n",
    "#X_train, X_val, Y_train, Y_val = train_test_split(X_train, Y_train, shuffle=True, test_size=1/2, stratify=Y_train)\n",
    "\n",
    "def normalize_val(X_train, X_test, X_val):\n",
    "    sc = StandardScaler(with_mean=True, with_std=True)\n",
    "    sc.fit(X_train)\n",
    "    X_train_n = sc.transform(X_train)\n",
    "    X_val_n = sc.transform(X_val)\n",
    "    X_test_n = sc.transform(X_test)\n",
    "    return sc, X_train_n, X_test_n, X_val_n\n",
    "\n",
    "def normalize_all(X):\n",
    "    sc = StandardScaler(with_mean=True, with_std=True)\n",
    "    sc.fit(X)\n",
    "    X_n = sc.transform(X)\n",
    "    return sc, X_n\n",
    "\n",
    "#sc_x,  X_train_n, X_test_n, X_val_n = normalize_val(X_train , X_test, X_val)\n",
    "sc, X_n = normalize_all(X)"
   ]
  },
  {
   "cell_type": "code",
   "execution_count": 9,
   "id": "18f8ceba",
   "metadata": {},
   "outputs": [
    {
     "name": "stdout",
     "output_type": "stream",
     "text": [
      "Fitting 5 folds for each of 100 candidates, totalling 500 fits\n",
      "\n",
      " linear kernel - optimal hyper-parameters = {'C': 0.1484968262254465}\n"
     ]
    }
   ],
   "source": [
    "#SVC linear, sur toutes les données\n",
    "C_grid = np.logspace(-2, 0, 100)\n",
    "\n",
    "# the grid\n",
    "parameters = [{\"C\": C_grid}]\n",
    "# the classifier\n",
    "clf_svm = SVC(kernel=\"linear\", tol=0.01)\n",
    "# Perf a K-fold validation using the accuracy as the performance measure\n",
    "K = 5\n",
    "# we will dot it on a grid search using n_jobs processors\n",
    "clf_svm = GridSearchCV(clf_svm, param_grid=parameters, cv=K, scoring=\"accuracy\", verbose=1, n_jobs = 2)\n",
    "clf_svm.fit(X_n, Y)\n",
    "\n",
    "print(\"\\n linear kernel - optimal hyper-parameters = {}\".format(clf_svm.\n",
    "best_params_))"
   ]
  },
  {
   "cell_type": "code",
   "execution_count": null,
   "id": "f1d1d724",
   "metadata": {},
   "outputs": [],
   "source": [
    "#séparation du jeu de données pour obtenir un jeu de test"
   ]
  },
  {
   "cell_type": "code",
   "execution_count": 12,
   "id": "ec8794b8",
   "metadata": {},
   "outputs": [],
   "source": [
    "from sklearn.model_selection import train_test_split\n",
    "X_train, X_test, Y_train, Y_test = train_test_split(X, Y, shuffle=True, test_size=1/2, stratify=Y)"
   ]
  },
  {
   "cell_type": "code",
   "execution_count": 13,
   "id": "a7aa819c",
   "metadata": {},
   "outputs": [
    {
     "name": "stdout",
     "output_type": "stream",
     "text": [
      "Accuracy on training data = 88.33333333333333\n",
      "Accuracy on test data = 86.88524590163934\n"
     ]
    },
    {
     "data": {
      "image/png": "[encoded data removed]",
      "text/plain": [
       "<Figure size 900x900 with 1 Axes>"
      ]
     },
     "metadata": {},
     "output_type": "display_data"
    }
   ],
   "source": [
    "X_test_n = sc.transform(X_test)\n",
    "X_train_n = sc.transform(X_train)\n",
    "\n",
    "acc_test = accuracy_score(Y_test, clf_svm.predict(X_test_n))\n",
    "acc_train = accuracy_score(Y_train, clf_svm.predict(X_train_n))\n",
    "print(\"Accuracy on training data = {}\".format(100*acc_train))\n",
    "print(\"Accuracy on test data = {}\".format(100*acc_test))\n",
    "\n",
    "from sklearn.metrics import confusion_matrix, accuracy_score\n",
    "Ytest_pred_svm = clf_svm.predict(X_test_n)\n",
    "confmat = confusion_matrix(Y_test, Ytest_pred_svm)\n",
    "fig, ax = plt.subplots(figsize=(9, 9))\n",
    "ax.matshow(confmat, cmap=plt.cm.Blues, alpha=0.5)\n",
    "for i in range(confmat.shape[0]):\n",
    "    for j in range(confmat.shape[1]):\n",
    "        ax.text(x=j, y=i, s=confmat[i, j], va=\"center\", ha=\"center\")\n",
    "plt.xlabel(\"Prediction\"); plt.ylabel(\"Truth\");"
   ]
  }
 ],
 "metadata": {
  "kernelspec": {
   "display_name": "Python 3 (ipykernel)",
   "language": "python",
   "name": "python3"
  },
  "language_info": {
   "codemirror_mode": {
    "name": "ipython",
    "version": 3
   },
   "file_extension": ".py",
   "mimetype": "text/x-python",
   "name": "python",
   "nbconvert_exporter": "python",
   "pygments_lexer": "ipython3",
   "version": "3.7.2"
  }
 },
 "nbformat": 4,
 "nbformat_minor": 5
}
