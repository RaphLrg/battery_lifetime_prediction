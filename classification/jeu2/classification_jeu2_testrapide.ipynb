{
 "cells": [
  {
   "cell_type": "code",
   "execution_count": 1,
   "metadata": {},
   "outputs": [],
   "source": [
    "import matplotlib.pyplot as plt\n",
    "import numpy as np\n",
    "import os\n",
    "import pickle\n",
    "from IPython.display import clear_output\n",
    "import sklearn\n",
    "from sklearn.model_selection import train_test_split\n",
    "from sklearn.gaussian_process import GaussianProcessRegressor\n",
    "from sklearn.gaussian_process.kernels import RBF\n",
    "from sklearn.preprocessing import StandardScaler\n",
    "from sklearn import linear_model\n",
    "from sklearn.ensemble import RandomForestClassifier\n",
    "from sklearn.svm import SVR\n",
    "from sklearn import linear_model\n",
    "#a remove :[8, 10, 12, 13, 22, 96, 117, 126, 136, 137]\n",
    "\n",
    "def RMSE(predictions, targets):\n",
    "    return np.sqrt(((predictions - targets) ** 2).mean())\n",
    "def MAPE(Y_Predicted,Y_actual):\n",
    "    mape = np.mean(np.abs((Y_actual - Y_Predicted)/Y_actual))*100\n",
    "    return mape\n"
   ]
  },
  {
   "cell_type": "code",
   "execution_count": 2,
   "metadata": {},
   "outputs": [],
   "source": [
    "variables = pickle.load(open(r'jeu_variables_2.pkl','rb'))\n",
    "entetes = np.array(variables['X']).reshape(72,141)[:,0]\n",
    "X = np.array(variables['X']).reshape(72,141)[:,1:141].T.astype('float')\n",
    "Y = np.array(variables['Y']).reshape(140).astype('float')\n",
    "remove_bat = [8, 10, 12, 13, 22, 96, 117, 126, 136, 137]\n",
    "X_clean = np.delete(X, remove_bat, 0)\n",
    "Y_clean = np.delete(Y, remove_bat)\n",
    "X = X_clean\n",
    "Y = Y_clean\n",
    "index_valeurs_faibles = np.where(Y < 350)\n",
    "index_valeurs_fortes = np.where(Y > 1350)\n",
    "index_a_enlever = np.concatenate((index_valeurs_faibles, index_valeurs_fortes), axis=None)\n",
    "X = np.delete(X, index_a_enlever, 0)\n",
    "Y = np.delete(Y, index_a_enlever)"
   ]
  },
  {
   "cell_type": "code",
   "execution_count": 3,
   "metadata": {},
   "outputs": [],
   "source": [
    "Y = Y//330\n",
    "from sklearn.model_selection import train_test_split\n",
    "X_train, X_test, Y_train, Y_test = train_test_split(X, Y, shuffle=True, test_size=1/3, stratify=Y)\n",
    "X_train, X_val, Y_train, Y_val = train_test_split(X_train, Y_train, shuffle=True, test_size=1/2, stratify=Y_train)"
   ]
  },
  {
   "cell_type": "code",
   "execution_count": 4,
   "metadata": {},
   "outputs": [],
   "source": [
    "def normalize_val(X_train, X_test, X_val):\n",
    "    sc = StandardScaler(with_mean=True, with_std=True)\n",
    "    sc.fit(X_train)\n",
    "    X_train_n = sc.transform(X_train)\n",
    "    X_val_n = sc.transform(X_val)\n",
    "    X_test_n = sc.transform(X_test)\n",
    "    return sc, X_train_n, X_test_n, X_val_n\n",
    "\n",
    "sc_x,  X_train_n, X_test_n, X_val_n = normalize_val(X_train , X_test, X_val)"
   ]
  },
  {
   "cell_type": "code",
   "execution_count": 6,
   "metadata": {},
   "outputs": [
    {
     "name": "stdout",
     "output_type": "stream",
     "text": [
      "Accuracy on training data = 100.0\n",
      "Accuracy on test data = 65.85365853658537\n",
      "[1. 3. 1. 1. 3. 1. 2. 1. 2. 3. 3. 2. 1. 3. 1. 1. 1. 2. 1. 2. 1. 1. 2. 1.\n",
      " 3. 1. 1. 1. 2. 3. 1. 1. 2. 3. 1. 2. 3. 1. 3. 1. 1.]\n"
     ]
    }
   ],
   "source": [
    "from sklearn.svm import SVC\n",
    "from sklearn.metrics import accuracy_score\n",
    "clf_svm = SVC(kernel=\"linear\", tol=0.01, cache_size=10000)\n",
    "clf_svm.fit(X_train_n, Y_train)\n",
    "acc_test = accuracy_score(Y_test, clf_svm.predict(X_test_n))\n",
    "acc_train = accuracy_score(Y_train, clf_svm.predict(X_train_n))\n",
    "print(\"Accuracy on training data = {}\".format(100*acc_train))\n",
    "print(\"Accuracy on test data = {}\".format(100*acc_test))\n",
    "print(clf_svm.predict(X_test_n))"
   ]
  }
 ],
 "metadata": {
  "kernelspec": {
   "display_name": "Python 3",
   "language": "python",
   "name": "python3"
  },
  "language_info": {
   "codemirror_mode": {
    "name": "ipython",
    "version": 3
   },
   "file_extension": ".py",
   "mimetype": "text/x-python",
   "name": "python",
   "nbconvert_exporter": "python",
   "pygments_lexer": "ipython3",
   "version": "3.6.9"
  }
 },
 "nbformat": 4,
 "nbformat_minor": 5
}
