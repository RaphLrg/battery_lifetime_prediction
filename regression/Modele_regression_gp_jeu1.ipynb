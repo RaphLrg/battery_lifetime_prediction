{
 "cells": [
  {
   "cell_type": "code",
   "execution_count": 1,
   "metadata": {},
   "outputs": [],
   "source": [
    "import matplotlib.pyplot as plt\n",
    "import numpy as np\n",
    "import os\n",
    "import pickle\n",
    "from IPython.display import clear_output\n",
    "import sklearn\n",
    "from sklearn.model_selection import train_test_split\n",
    "from sklearn.gaussian_process import GaussianProcessRegressor\n",
    "from sklearn.gaussian_process.kernels import RBF\n",
    "from sklearn.preprocessing import StandardScaler\n",
    "from sklearn import linear_model\n",
    "from sklearn.ensemble import RandomForestClassifier\n",
    "from sklearn.svm import SVR\n",
    "from sklearn import linear_model\n",
    "#a remove :[8, 10, 12, 13, 22, 96, 117, 126, 136, 137]"
   ]
  },
  {
   "cell_type": "code",
   "execution_count": 2,
   "metadata": {},
   "outputs": [],
   "source": [
    "def RMSE(predictions, targets):\n",
    "    return np.sqrt(((predictions - targets) ** 2).mean())\n",
    "def MAPE(Y_Predicted,Y_actual):\n",
    "    mape = np.mean(np.abs((Y_actual - Y_Predicted)/Y_actual))*100\n",
    "    return mape"
   ]
  },
  {
   "cell_type": "code",
   "execution_count": 3,
   "metadata": {},
   "outputs": [],
   "source": [
    "variables = pickle.load(open(r'jeu_variables_1.pkl','rb'))\n",
    "entetes = np.array(variables['X']).reshape(63,141)[:,0]\n",
    "X = np.array(variables['X']).reshape(63,141)[:,1:141].T.astype('float')\n",
    "Y = np.array(variables['Y']).reshape(140).astype('float')\n",
    "remove_bat = [8, 10, 12, 13, 22, 96, 117, 126, 136, 137]\n",
    "X_clean = np.delete(X, remove_bat, 0)\n",
    "Y_clean = np.delete(Y, remove_bat)\n",
    "X = X_clean\n",
    "Y = Y_clean"
   ]
  },
  {
   "cell_type": "code",
   "execution_count": 4,
   "metadata": {},
   "outputs": [],
   "source": [
    "def preprossessing(X,Y):# Séparation des données\n",
    "    X_train, X_test, Y_train, Y_test = train_test_split(X, Y, test_size=0.5, random_state=42)\n",
    "    \n",
    "    # Normalisation des données\n",
    "    #sc = StandardScaler(with_mean=True, with_std=True)\n",
    "    #sc.fit(X_train)\n",
    "    #X_train = sc.transform(X_train)\n",
    "    #X_test = sc.transform(X_test)\n",
    "    return X_train, X_test, Y_train, Y_test"
   ]
  },
  {
   "cell_type": "code",
   "execution_count": 5,
   "metadata": {},
   "outputs": [],
   "source": [
    "def preprocessing_val(X,Y):\n",
    "    X_train, X_test, Y_train, Y_test = train_test_split(X, Y, test_size=1/3,shuffle=True, random_state=42)\n",
    "    print(X_test.shape)\n",
    "    print(X_train.shape)\n",
    "    X_train, X_val, Y_train, Y_val = train_test_split(X_train, Y_train, test_size=0.5, shuffle=True, random_state=42)\n",
    "    return X_train,X_val, X_test, Y_train, Y_val, Y_test"
   ]
  },
  {
   "cell_type": "code",
   "execution_count": 6,
   "metadata": {},
   "outputs": [],
   "source": [
    "def normalize(X_train, X_test):\n",
    "    sc = StandardScaler(with_mean=True, with_std=True)\n",
    "    sc.fit(X_train)\n",
    "    X_train_n = sc.transform(X_train)\n",
    "    X_test_n = sc.transform(X_test)\n",
    "    return sc, X_train_n, X_test_n"
   ]
  },
  {
   "cell_type": "code",
   "execution_count": 7,
   "metadata": {},
   "outputs": [],
   "source": [
    "def normalize_val(X_train, X_test, X_val):\n",
    "    sc = StandardScaler(with_mean=True, with_std=True)\n",
    "    sc.fit(X_train)\n",
    "    X_train_n = sc.transform(X_train)\n",
    "    X_val_n = sc.transform(X_val)\n",
    "    X_test_n = sc.transform(X_test)\n",
    "    return sc, X_train_n, X_test_n, X_val_n"
   ]
  },
  {
   "cell_type": "code",
   "execution_count": 8,
   "metadata": {},
   "outputs": [
    {
     "name": "stdout",
     "output_type": "stream",
     "text": [
      "(44, 63)\n",
      "(86, 63)\n",
      "(44, 63)\n",
      "(43, 63)\n",
      "(43, 63)\n"
     ]
    }
   ],
   "source": [
    "X_train,X_val, X_test, Y_train, Y_val, Y_test = preprocessing_val(X, Y)\n",
    "sc_x,  X_train_n, X_test_n, X_val_n = normalize_val(X_train , X_test, X_val)\n",
    "sc_y, Y_train_n, Y_test_n, Y_val_n = normalize_val(Y_train.reshape(-1, 1) ,Y_test.reshape(-1,1), Y_val.reshape(-1,1))\n",
    "print(X_test.shape)\n",
    "print(X_train.shape)\n",
    "print(X_val.shape)"
   ]
  },
  {
   "cell_type": "code",
   "execution_count": 9,
   "metadata": {},
   "outputs": [
    {
     "name": "stdout",
     "output_type": "stream",
     "text": [
      "Alpha = 0.000100\n",
      "['I 100-10' 'Qd 100-10' 'Qdlin 100-10' 'T 100-10' 'Tdlin 100-10'\n",
      " 'I 150-10' 'Qc 150-10' 'Qd 150-10' 'T 150-10' 'dQdV 150-10' 'I 150-100'\n",
      " 'Qd 150-100' 'V 150-100' 't 150-100' 'I 10' 'Qd 10' 'T 10' 'V 10'\n",
      " 'dQdV 10' 'I 50' 'Qd 50' 'Qdlin 50' 'T 50' 'Qdlin 100' 'Tdlin 100'\n",
      " 'dQdV 100' 't 100' 'Qc 150' 'T 150' 'Tdlin 150']\n",
      "ok  30\n",
      "Alpha = 0.000162\n",
      "['I 100-10' 'Qd 100-10' 'Qdlin 100-10' 'T 100-10' 'Tdlin 100-10'\n",
      " 'I 150-10' 'Qc 150-10' 'Qd 150-10' 'T 150-10' 'dQdV 150-10' 'I 150-100'\n",
      " 'Qd 150-100' 'V 150-100' 't 150-100' 'Qd 10' 'T 10' 'V 10' 'dQdV 10'\n",
      " 'I 50' 'Qd 50' 'Qdlin 50' 'T 50' 'Qdlin 100' 'Tdlin 100' 'dQdV 100'\n",
      " 't 100' 'Qc 150' 'T 150' 'Tdlin 150']\n",
      "ok  29\n",
      "Alpha = 0.000264\n",
      "['I 100-10' 'Qd 100-10' 'Qdlin 100-10' 'T 100-10' 'Tdlin 100-10'\n",
      " 'I 150-10' 'Qd 150-10' 'T 150-10' 'dQdV 150-10' 'I 150-100' 'Qd 150-100'\n",
      " 'V 150-100' 't 150-100' 'Qd 10' 'T 10' 'V 10' 'dQdV 10' 'I 50' 'Qdlin 50'\n",
      " 'T 50' 'Qdlin 100' 'dQdV 100' 't 100' 'Qc 150' 'T 150' 'Tdlin 150']\n",
      "ok  26\n",
      "Alpha = 0.000428\n",
      "['Qd 100-10' 'Qdlin 100-10' 'T 100-10' 'Tdlin 100-10' 'Qd 150-10'\n",
      " 'T 150-10' 'dQdV 150-10' 'I 150-100' 'Qd 150-100' 'V 150-100' 't 150-100'\n",
      " 'Qd 10' 'T 10' 'V 10' 'dQdV 10' 'I 50' 'Qdlin 50' 'T 50' 'Qdlin 100'\n",
      " 'dQdV 100' 'Qc 150' 'Qdlin 150' 'T 150' 'Tdlin 150']\n",
      "ok  24\n",
      "Alpha = 0.000695\n",
      "['Qdlin 100-10' 'T 100-10' 'Tdlin 100-10' 'Qdlin 150-10' 'T 150-10'\n",
      " 'dQdV 150-10' 'Qd 150-100' 'Qdlin 150-100' 'V 150-100' 't 150-100'\n",
      " 'Qdlin 10' 'T 10' 'V 10' 'dQdV 10' 'I 50' 'Qdlin 50' 'T 50' 'Qdlin 100'\n",
      " 'dQdV 100' 'Qc 150' 'Qdlin 150' 'T 150' 'Tdlin 150']\n",
      "ok  23\n",
      "Alpha = 0.001129\n",
      "['T 100-10' 'Tdlin 100-10' 'Qdlin 150-10' 'T 150-10' 'dQdV 150-10'\n",
      " 'Qd 150-100' 'Qdlin 150-100' 'V 150-100' 't 150-100' 'Qdlin 10' 'T 10'\n",
      " 'V 10' 'dQdV 10' 'Qdlin 50' 'T 50' 'Qdlin 100' 'dQdV 100' 'Qc 150'\n",
      " 'T 150' 'Tdlin 150']\n",
      "ok  20\n",
      "Alpha = 0.001833\n",
      "['T 100-10' 'Tdlin 100-10' 'T 150-10' 'dQdV 150-10' 'Qdlin 150-100'\n",
      " 'T 150-100' 'V 150-100' 't 150-100' 'Qdlin 10' 'T 10' 'V 10' 'T 50'\n",
      " 'Qdlin 100' 'dQdV 100' 'Qc 150' 'Qdlin 150' 'T 150' 'Tdlin 150'\n",
      " 'dQdV 150']\n",
      "ok  19\n",
      "Alpha = 0.002976\n",
      "['dQdV 150-10' 'Qdlin 150-100' 'T 150-100' 'Tdlin 150-100' 't 150-100'\n",
      " 'T 10' 'T 50' 'dQdV 100' 'Qc 150' 'Qdlin 150' 'T 150' 'Tdlin 150'\n",
      " 'dQdV 150']\n",
      "ok  13\n",
      "Alpha = 0.004833\n",
      "['dQdV 150-10' 'Qdlin 150-100' 'T 150-100' 'Tdlin 150-100' 't 150-100'\n",
      " 'T 10' 'T 50' 'Qc 150' 'Qdlin 150' 'Tdlin 150' 'dQdV 150']\n",
      "ok  11\n",
      "Alpha = 0.007848\n",
      "['dQdV 150-10' 'Qdlin 150-100' 'T 150-100' 'Tdlin 150-100' 't 150-100'\n",
      " 'T 50' 'Qdlin 150' 'Tdlin 150' 'dQdV 150']\n",
      "ok  9\n",
      "Alpha = 0.012743\n",
      "['dQdV 150-10' 'Qdlin 150-100' 'T 150-100' 'Tdlin 150-100' 't 150-100'\n",
      " 'T 50' 'Qdlin 150' 'Tdlin 150' 'dQdV 150']\n",
      "ok  9\n",
      "Alpha = 0.020691\n",
      "['Qdlin 150-100' 'T 150-100' 'Tdlin 150-100' 't 150-100' 'Qdlin 150'\n",
      " 'dQdV 150']\n",
      "ok  6\n",
      "Alpha = 0.033598\n",
      "['Tdlin 150-100' 'Qdlin 150' 'dQdV 150']\n",
      "ok  3\n",
      "Alpha = 0.054556\n",
      "['Qdlin 150' 'dQdV 150']\n",
      "ok  2\n",
      "Alpha = 0.088587\n",
      "['Qdlin 150' 'dQdV 150']\n",
      "ok  2\n",
      "Alpha = 0.143845\n",
      "['Qdlin 150' 'dQdV 150']\n",
      "ok  2\n",
      "Alpha = 0.233572\n",
      "['dQdV 150']\n",
      "ok  1\n",
      "Alpha = 0.379269\n",
      "['dQdV 150']\n",
      "ok  1\n",
      "Alpha = 0.615848\n",
      "[]\n",
      "ok  0\n",
      "Alpha = 1.000000\n",
      "[]\n",
      "ok  0\n"
     ]
    },
    {
     "name": "stderr",
     "output_type": "stream",
     "text": [
      "/home/adrien/.local/share/virtualenvs/tim+iml_tp_env-QTCI9onf/lib/python3.7/site-packages/sklearn/linear_model/_coordinate_descent.py:648: ConvergenceWarning: Objective did not converge. You might want to increase the number of iterations, check the scale of the features or consider increasing regularisation. Duality gap: 2.985e-01, tolerance: 4.300e-03\n",
      "  coef_, l1_reg, l2_reg, X, y, max_iter, tol, rng, random, positive\n",
      "/home/adrien/.local/share/virtualenvs/tim+iml_tp_env-QTCI9onf/lib/python3.7/site-packages/sklearn/linear_model/_coordinate_descent.py:648: ConvergenceWarning: Objective did not converge. You might want to increase the number of iterations, check the scale of the features or consider increasing regularisation. Duality gap: 3.416e-01, tolerance: 4.300e-03\n",
      "  coef_, l1_reg, l2_reg, X, y, max_iter, tol, rng, random, positive\n",
      "/home/adrien/.local/share/virtualenvs/tim+iml_tp_env-QTCI9onf/lib/python3.7/site-packages/sklearn/linear_model/_coordinate_descent.py:648: ConvergenceWarning: Objective did not converge. You might want to increase the number of iterations, check the scale of the features or consider increasing regularisation. Duality gap: 4.016e-01, tolerance: 4.300e-03\n",
      "  coef_, l1_reg, l2_reg, X, y, max_iter, tol, rng, random, positive\n",
      "/home/adrien/.local/share/virtualenvs/tim+iml_tp_env-QTCI9onf/lib/python3.7/site-packages/sklearn/linear_model/_coordinate_descent.py:648: ConvergenceWarning: Objective did not converge. You might want to increase the number of iterations, check the scale of the features or consider increasing regularisation. Duality gap: 4.338e-01, tolerance: 4.300e-03\n",
      "  coef_, l1_reg, l2_reg, X, y, max_iter, tol, rng, random, positive\n",
      "/home/adrien/.local/share/virtualenvs/tim+iml_tp_env-QTCI9onf/lib/python3.7/site-packages/sklearn/linear_model/_coordinate_descent.py:648: ConvergenceWarning: Objective did not converge. You might want to increase the number of iterations, check the scale of the features or consider increasing regularisation. Duality gap: 3.495e-01, tolerance: 4.300e-03\n",
      "  coef_, l1_reg, l2_reg, X, y, max_iter, tol, rng, random, positive\n",
      "/home/adrien/.local/share/virtualenvs/tim+iml_tp_env-QTCI9onf/lib/python3.7/site-packages/sklearn/linear_model/_coordinate_descent.py:648: ConvergenceWarning: Objective did not converge. You might want to increase the number of iterations, check the scale of the features or consider increasing regularisation. Duality gap: 1.800e-01, tolerance: 4.300e-03\n",
      "  coef_, l1_reg, l2_reg, X, y, max_iter, tol, rng, random, positive\n",
      "/home/adrien/.local/share/virtualenvs/tim+iml_tp_env-QTCI9onf/lib/python3.7/site-packages/sklearn/linear_model/_coordinate_descent.py:648: ConvergenceWarning: Objective did not converge. You might want to increase the number of iterations, check the scale of the features or consider increasing regularisation. Duality gap: 1.701e-01, tolerance: 4.300e-03\n",
      "  coef_, l1_reg, l2_reg, X, y, max_iter, tol, rng, random, positive\n",
      "/home/adrien/.local/share/virtualenvs/tim+iml_tp_env-QTCI9onf/lib/python3.7/site-packages/sklearn/linear_model/_coordinate_descent.py:648: ConvergenceWarning: Objective did not converge. You might want to increase the number of iterations, check the scale of the features or consider increasing regularisation. Duality gap: 8.212e-02, tolerance: 4.300e-03\n",
      "  coef_, l1_reg, l2_reg, X, y, max_iter, tol, rng, random, positive\n",
      "/home/adrien/.local/share/virtualenvs/tim+iml_tp_env-QTCI9onf/lib/python3.7/site-packages/sklearn/linear_model/_coordinate_descent.py:648: ConvergenceWarning: Objective did not converge. You might want to increase the number of iterations, check the scale of the features or consider increasing regularisation. Duality gap: 8.047e-03, tolerance: 4.300e-03\n",
      "  coef_, l1_reg, l2_reg, X, y, max_iter, tol, rng, random, positive\n",
      "/home/adrien/.local/share/virtualenvs/tim+iml_tp_env-QTCI9onf/lib/python3.7/site-packages/sklearn/linear_model/_coordinate_descent.py:648: ConvergenceWarning: Objective did not converge. You might want to increase the number of iterations, check the scale of the features or consider increasing regularisation. Duality gap: 5.877e-03, tolerance: 4.300e-03\n",
      "  coef_, l1_reg, l2_reg, X, y, max_iter, tol, rng, random, positive\n"
     ]
    }
   ],
   "source": [
    "import pandas as pd\n",
    "from sklearn.linear_model import Lasso\n",
    "def lasso(alphas):\n",
    "    '''\n",
    "    Takes in a list of alphas. Outputs a dataframe containing the coefficients of lasso regressions from each alpha.\n",
    "    '''\n",
    "    # Create an empty data frame\n",
    "    df = pd.DataFrame()\n",
    "    \n",
    "    # Create a column of feature names\n",
    "    df['Feature Name'] = entetes\n",
    "    trouve = False\n",
    "    alphaOpti = 0\n",
    "    index_var = []\n",
    "    # For each alpha value in the list of alpha values,\n",
    "    for alpha in alphas:\n",
    "        # Create a lasso regression with that alpha value,\n",
    "        lasso = Lasso(alpha=alpha)\n",
    "        \n",
    "        # Fit the lasso regression\n",
    "        lasso.fit(X_train_n, Y_train_n)\n",
    "        \n",
    "        # Create a column name for that alpha value\n",
    "        column_name = 'Alpha = %f' % alpha\n",
    "\n",
    "        # Create a column of coefficient values\n",
    "        df[column_name] = lasso.coef_\n",
    "        print(column_name)\n",
    "        print(entetes[np.where(df[column_name] > 0.001)])\n",
    "        print(\"ok \",np.where(df[column_name] > 0.001)[0].shape[0])\n",
    "        if(np.where(df[column_name] > 0.001)[0].shape[0] <= 10 and not trouve):\n",
    "            alphaOpti = alpha\n",
    "            trouve = True\n",
    "            index_var = np.where(df[column_name] > 0.001)\n",
    "            \n",
    "        \n",
    "    # Return the datafram    \n",
    "    return df, alphaOpti, index_var\n",
    "\n",
    "tableau, alphaOpti, index = lasso(np.logspace(-4,0,20))"
   ]
  },
  {
   "cell_type": "code",
   "execution_count": 10,
   "metadata": {},
   "outputs": [
    {
     "name": "stdout",
     "output_type": "stream",
     "text": [
      "(array([16, 21, 22, 23, 26, 40, 57, 59, 61]),)\n",
      "(130, 9)\n"
     ]
    }
   ],
   "source": [
    "print(index)\n",
    "X_10 = X[:, index[0]]\n",
    "print(X_10.shape)"
   ]
  },
  {
   "cell_type": "code",
   "execution_count": 11,
   "metadata": {},
   "outputs": [
    {
     "name": "stdout",
     "output_type": "stream",
     "text": [
      "(44, 9)\n",
      "(86, 9)\n"
     ]
    }
   ],
   "source": [
    "X_train, X_val,X_test, Y_train, Y_val, Y_test = preprocessing_val(X_10, Y)\n",
    "sc_x,  X_train_n, X_test_n, X_val_n = normalize_val(X_train , X_test, X_val)\n",
    "sc_y, Y_train_n, Y_test_n, Y_val_n = normalize_val(Y_train.reshape(-1, 1) ,Y_test.reshape(-1,1), Y_val.reshape(-1,1))\n",
    "#print(np.mean(X_train_n[:, 1]))"
   ]
  },
  {
   "cell_type": "code",
   "execution_count": null,
   "metadata": {},
   "outputs": [],
   "source": [
    "#test model gaussian"
   ]
  },
  {
   "cell_type": "code",
   "execution_count": 12,
   "metadata": {},
   "outputs": [],
   "source": [
    "from sklearn.gaussian_process.kernels import RationalQuadratic\n",
    "from sklearn.gaussian_process.kernels import RBF\n",
    "from sklearn.gaussian_process.kernels import WhiteKernel\n",
    "\n",
    "irregularities_kernel = 5.0**2 * RationalQuadratic(length_scale=5.0, alpha=1.0)\n",
    "long_term_trend_kernel = 2.0**2 * RBF(length_scale=2.0)\n",
    "noise_kernel = 0.1**2 * RBF(length_scale=0.1) + WhiteKernel(\n",
    "    noise_level=0.1**2, noise_level_bounds=(1e-5, 1e5)\n",
    ")\n",
    "kernel_gpr = irregularities_kernel + long_term_trend_kernel + noise_kernel"
   ]
  },
  {
   "cell_type": "code",
   "execution_count": 13,
   "metadata": {},
   "outputs": [
    {
     "data": {
      "text/plain": [
       "GaussianProcessRegressor(kernel=5**2 * RationalQuadratic(alpha=1, length_scale=5) + 2**2 * RBF(length_scale=2) + 0.1**2 * RBF(length_scale=0.1) + WhiteKernel(noise_level=0.01),\n",
       "                         n_restarts_optimizer=10)"
      ]
     },
     "execution_count": 13,
     "metadata": {},
     "output_type": "execute_result"
    }
   ],
   "source": [
    "gpr = sklearn.gaussian_process.GaussianProcessRegressor(kernel=kernel_gpr, n_restarts_optimizer=10)\n",
    "gpr.fit(X_train_n, Y_train_n)"
   ]
  },
  {
   "cell_type": "code",
   "execution_count": 14,
   "metadata": {},
   "outputs": [
    {
     "name": "stdout",
     "output_type": "stream",
     "text": [
      "RMSE test normalisé : 388.85442734761034\n",
      "(44, 1)\n",
      "(44,)\n"
     ]
    },
    {
     "data": {
      "text/plain": [
       "<matplotlib.collections.PathCollection at 0x7f010a3cb0b8>"
      ]
     },
     "execution_count": 14,
     "metadata": {},
     "output_type": "execute_result"
    },
    {
     "data": {
      "image/png": "[encoded data removed]",
      "text/plain": [
       "<Figure size 640x480 with 1 Axes>"
      ]
     },
     "metadata": {},
     "output_type": "display_data"
    }
   ],
   "source": [
    "Y_predict_n = gpr.predict(X_test_n)\n",
    "Y_predict = sc_y.inverse_transform(Y_predict_n)\n",
    "print(f\"RMSE test normalisé : {RMSE(Y_predict, Y_test)}\")\n",
    "print(Y_predict.shape)\n",
    "print(Y_test.shape)\n",
    "plt.scatter(Y_predict, Y_test)"
   ]
  },
  {
   "cell_type": "code",
   "execution_count": null,
   "metadata": {},
   "outputs": [],
   "source": [
    "print(Y_test)\n",
    "print(Y_train)\n",
    "print(X_train.shape)"
   ]
  },
  {
   "cell_type": "code",
   "execution_count": null,
   "metadata": {},
   "outputs": [],
   "source": []
  },
  {
   "cell_type": "code",
   "execution_count": null,
   "metadata": {},
   "outputs": [],
   "source": [
    "def linear_regression(X,Y):\n",
    "    # Preprocessing\n",
    "    X_train, X_test, Y_train, Y_test = preprossessing(X,Y)\n",
    "    \n",
    "    # Modèle linéaire\n",
    "    reg = linear_model.LinearRegression().fit(X_train, Y_train)\n",
    "\n",
    "    # Prédictions\n",
    "    mean_prediction_train = reg.predict(X_train)\n",
    "    mean_prediction_test = reg.predict(X_test)    \n",
    "    \n",
    "    # Erreur d'entrainement\n",
    "    print('Train - RMSE=',RMSE(mean_prediction_train,Y_train))\n",
    "    print('Train - MAPE=',MAPE(mean_prediction_train,Y_train))\n",
    "    \n",
    "    # Erreur de test\n",
    "    print('Test - RMSE=',RMSE(mean_prediction_test,Y_test))\n",
    "    print('Test - MAPE=',MAPE(mean_prediction_test,Y_test))"
   ]
  },
  {
   "cell_type": "code",
   "execution_count": null,
   "metadata": {},
   "outputs": [],
   "source": [
    "def linear_logistic_regression(X,Y):\n",
    "    # Preprocessing\n",
    "    X_train, X_test, Y_train, Y_test = preprossessing(X,Y)\n",
    "    \n",
    "    # Modèle linéaire regression logistique\n",
    "    clf = linear_model.LogisticRegression(penalty=\"none\", solver=\"newton-cg\")\n",
    "    clf.fit(X_train, Y_train)\n",
    "    \n",
    "    # Prédictions\n",
    "    mean_prediction_train = clf.predict(X_train)\n",
    "    mean_prediction_test = clf.predict(X_test)   \n",
    "    \n",
    "    plt.scatter(Y_test, mean_prediction_test)\n",
    "    \n",
    "    # Erreur d'entrainement\n",
    "    print('Train - RMSE=',RMSE(mean_prediction_train,Y_train))\n",
    "    print('Train - MAPE=',MAPE(mean_prediction_train,Y_train))\n",
    "    \n",
    "    # Erreur de test\n",
    "    print('Test - RMSE=',RMSE(mean_prediction_test,Y_test))\n",
    "    print('Test - MAPE=',MAPE(mean_prediction_test,Y_test))"
   ]
  },
  {
   "cell_type": "code",
   "execution_count": null,
   "metadata": {},
   "outputs": [],
   "source": [
    "def gaussian_process(X,Y):   \n",
    "    # Preprocessing\n",
    "    X_train, X_test, Y_train, Y_test = preprossessing(X,Y)\n",
    "    \n",
    "    # Modèle gaussien\n",
    "    kernel = 1 * RBF(length_scale=1.0, length_scale_bounds=(1e-2, 1e2))\n",
    "    my_gaussian_process = GaussianProcessRegressor(kernel=kernel, n_restarts_optimizer=9)\n",
    "    my_gaussian_process.fit(X_train, Y_train)\n",
    "    my_gaussian_process.kernel_\n",
    "    \n",
    "    # Prédictions\n",
    "    mean_prediction_train, std_prediction = my_gaussian_process.predict(X_train, return_std=True)\n",
    "    mean_prediction, std_prediction = my_gaussian_process.predict(X_test, return_std=True)\n",
    "    \n",
    "    # Erreur d'entrainement\n",
    "    print('Train - RMSE=',RMSE(mean_prediction_train,Y_train))\n",
    "    print('Train - MAPE=',MAPE(mean_prediction_train,Y_train))\n",
    "    \n",
    "    # Erreur de test\n",
    "    print('Test - RMSE=',RMSE(mean_prediction,Y_test))\n",
    "    print('Test - MAPE=',MAPE(mean_prediction,Y_test))"
   ]
  },
  {
   "cell_type": "code",
   "execution_count": null,
   "metadata": {},
   "outputs": [],
   "source": [
    "def lasso(X,Y,alpha):\n",
    "    # Preprocessing\n",
    "    X_train, X_test, Y_train, Y_test = preprossessing(X,Y)\n",
    "    \n",
    "    # Modèle Lasso\n",
    "    clf = linear_model.Lasso(alpha=alpha)\n",
    "    clf.fit(X_train,Y_train)\n",
    "    \n",
    "    # Prédictions\n",
    "    mean_prediction_train = clf.predict(X_train)\n",
    "    mean_prediction_test = clf.predict(X_test)\n",
    "    \n",
    "    # Erreur d'entrainement\n",
    "    print('Train - RMSE=',RMSE(mean_prediction_train,Y_train))\n",
    "    print('Train - MAPE=',MAPE(mean_prediction_train,Y_train))\n",
    "    \n",
    "    # Erreur de test\n",
    "    print('Test - RMSE=',RMSE(mean_prediction_test,Y_test))\n",
    "    print('Test - MAPE=',MAPE(mean_prediction_test,Y_test))"
   ]
  },
  {
   "cell_type": "code",
   "execution_count": null,
   "metadata": {},
   "outputs": [],
   "source": [
    "def lassoLars(X,Y,alpha):\n",
    "    # Preprocessing\n",
    "    X_train, X_test, Y_train, Y_test = preprossessing(X,Y)\n",
    "    \n",
    "    # Modèle Lasso\n",
    "    clf = linear_model.LassoLars(alpha=alpha, normalize=False)\n",
    "    clf.fit(X_train,Y_train)\n",
    "    \n",
    "    # Prédictions\n",
    "    mean_prediction_train = clf.predict(X_train)\n",
    "    mean_prediction_test = clf.predict(X_test)\n",
    "    \n",
    "    # Erreur d'entrainement\n",
    "    print('Train - RMSE=',RMSE(mean_prediction_train,Y_train))\n",
    "    print('Train - MAPE=',MAPE(mean_prediction_train,Y_train))\n",
    "    \n",
    "    # Erreur de test\n",
    "    print('Test - RMSE=',RMSE(mean_prediction_test,Y_test))\n",
    "    print('Test - MAPE=',MAPE(mean_prediction_test,Y_test))"
   ]
  },
  {
   "cell_type": "code",
   "execution_count": null,
   "metadata": {},
   "outputs": [],
   "source": [
    "def random_forests(X,Y,depth):\n",
    "    # Preprocessing\n",
    "    X_train, X_test, Y_train, Y_test = preprossessing(X,Y)\n",
    "    \n",
    "    # Modèle random forests\n",
    "    clf = RandomForestClassifier(max_depth=depth, random_state=0)\n",
    "    \n",
    "    clf.fit(X_train,Y_train)\n",
    "    \n",
    "    # Prédictions\n",
    "    mean_prediction_train = clf.predict(X_train)\n",
    "    mean_prediction_test = clf.predict(X_test)\n",
    "    \n",
    "    # Erreur d'entrainement\n",
    "    print('Train - RMSE=',RMSE(mean_prediction_train,Y_train))\n",
    "    print('Train - MAPE=',MAPE(mean_prediction_train,Y_train))\n",
    "    \n",
    "    # Erreur de test\n",
    "    print('Test - RMSE=',RMSE(mean_prediction_test,Y_test))\n",
    "    print('Test - MAPE=',MAPE(mean_prediction_test,Y_test))"
   ]
  },
  {
   "cell_type": "code",
   "execution_count": null,
   "metadata": {},
   "outputs": [],
   "source": [
    "def svr(X,Y):\n",
    "    # Preprocessing\n",
    "    X_train, X_test, Y_train, Y_test = preprossessing(X,Y)\n",
    "    \n",
    "    # Modèle SVR\n",
    "    clf = SVR(C=1.0, epsilon=0.2)\n",
    "    clf.fit(X_train,Y_train)\n",
    "    \n",
    "    # Prédictions\n",
    "    mean_prediction_train = clf.predict(X_train)\n",
    "    mean_prediction_test = clf.predict(X_test)\n",
    "    \n",
    "    # Erreur d'entrainement\n",
    "    print('Train - RMSE=',RMSE(mean_prediction_train,Y_train))\n",
    "    print('Train - MAPE=',MAPE(mean_prediction_train,Y_train))\n",
    "    \n",
    "    # Erreur de test\n",
    "    print('Test - RMSE=',RMSE(mean_prediction_test,Y_test))\n",
    "    print('Test - MAPE=',MAPE(mean_prediction_test,Y_test))"
   ]
  },
  {
   "cell_type": "code",
   "execution_count": null,
   "metadata": {},
   "outputs": [],
   "source": [
    "linear_regression(X,Y)"
   ]
  },
  {
   "cell_type": "code",
   "execution_count": null,
   "metadata": {},
   "outputs": [],
   "source": [
    "linear_logistic_regression(X,Y)"
   ]
  },
  {
   "cell_type": "code",
   "execution_count": null,
   "metadata": {},
   "outputs": [],
   "source": [
    "gaussian_process(X,Y)"
   ]
  },
  {
   "cell_type": "code",
   "execution_count": null,
   "metadata": {},
   "outputs": [],
   "source": [
    "lasso(X,Y,1.311)"
   ]
  },
  {
   "cell_type": "code",
   "execution_count": null,
   "metadata": {
    "scrolled": false
   },
   "outputs": [],
   "source": [
    "lassoLars(X,Y,1.33)"
   ]
  },
  {
   "cell_type": "code",
   "execution_count": null,
   "metadata": {},
   "outputs": [],
   "source": [
    "random_forests(X,Y,60)"
   ]
  },
  {
   "cell_type": "code",
   "execution_count": null,
   "metadata": {},
   "outputs": [],
   "source": [
    "svr(X,Y)"
   ]
  }
 ],
 "metadata": {
  "kernelspec": {
   "display_name": "Python 3",
   "language": "python",
   "name": "python3"
  },
  "language_info": {
   "codemirror_mode": {
    "name": "ipython",
    "version": 3
   },
   "file_extension": ".py",
   "mimetype": "text/x-python",
   "name": "python",
   "nbconvert_exporter": "python",
   "pygments_lexer": "ipython3",
   "version": "3.6.9"
  }
 },
 "nbformat": 4,
 "nbformat_minor": 5
}
