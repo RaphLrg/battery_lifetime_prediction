{
 "cells": [
  {
   "cell_type": "markdown",
   "id": "0da48b04",
   "metadata": {},
   "source": [
    "**Chargement des bibliothèques**"
   ]
  },
  {
   "cell_type": "code",
   "execution_count": 1,
   "id": "f9905a87",
   "metadata": {},
   "outputs": [],
   "source": [
    "import pickle\n",
    "import numpy as np\n",
    "from sklearn.model_selection import train_test_split\n",
    "from sklearn.gaussian_process import GaussianProcessRegressor\n",
    "from sklearn.gaussian_process.kernels import RBF\n",
    "from sklearn.preprocessing import StandardScaler\n",
    "from sklearn.ensemble import RandomForestRegressor\n",
    "from sklearn.linear_model import Ridge\n",
    "from sklearn.linear_model import RidgeCV\n",
    "from sklearn.linear_model import LogisticRegression\n",
    "from sklearn.linear_model import LinearRegression\n",
    "from sklearn.linear_model import LassoCV\n",
    "from sklearn.linear_model import Lasso\n",
    "\n",
    "# Fonction de calcul d'erreur\n",
    "def RMSE(predictions, targets):\n",
    "    return np.sqrt(((predictions - targets) ** 2).mean())\n",
    "def MAPE(Y_Predicted,Y_actual):\n",
    "    mape = np.mean(np.abs((Y_actual - Y_Predicted)/Y_actual))*100\n",
    "    return mape"
   ]
  },
  {
   "cell_type": "markdown",
   "id": "94ab03e2",
   "metadata": {},
   "source": [
    "**Initialisation des données**"
   ]
  },
  {
   "cell_type": "code",
   "execution_count": 2,
   "id": "2d4bc113",
   "metadata": {},
   "outputs": [],
   "source": [
    "# Chargement des données depuis le fichier pkl \n",
    "v = pickle.load(open(r'jeu_variables_mmm.pkl','rb'))\n",
    "entetes = np.array(v['X']).reshape(22,141)[:,0]\n",
    "X_brut = np.array(v['X']).reshape(22,141)[:,1:141].T.astype('float')\n",
    "Y_brut = np.array(v['Y']).reshape(140).astype('float')\n",
    "\n",
    "# Suppression des batteries défectueuses\n",
    "remove_bat = [8, 10, 12, 13, 22, 96, 117, 126, 136, 137]\n",
    "X = np.delete(X_brut, remove_bat, 0)\n",
    "Y = np.delete(Y_brut, remove_bat)\n",
    "\n",
    "# Suppression des batteries aux durées de vie trop courtes ou trop longues\n",
    "MIN = 350\n",
    "MAX = 1350\n",
    "index_valeurs_faibles = np.where(Y < MIN)\n",
    "index_valeurs_fortes = np.where(Y > MAX)\n",
    "index_a_enlever = np.concatenate((index_valeurs_faibles, index_valeurs_fortes), axis=None)\n",
    "X = np.delete(X, index_a_enlever, 0)\n",
    "Y = np.delete(Y, index_a_enlever)\n",
    "\n",
    "# Séparation des jeu d'entraînement et de test\n",
    "X_train, X_test, Y_train, Y_test = train_test_split(X, Y, shuffle=True, test_size=1/3)\n",
    "# X_train, X_val, Y_train, Y_val = train_test_split(X_train, Y_train, shuffle=True, test_size=1/2, stratify=Y_train)\n",
    "\n",
    "# Normalisation\n",
    "def normalize_val(X_train, X_test,):\n",
    "    sc = StandardScaler(with_mean=True, with_std=True)\n",
    "    sc.fit(X_train)\n",
    "    X_train_n = sc.transform(X_train)\n",
    "    X_test_n = sc.transform(X_test)\n",
    "    return sc, X_train_n, X_test_n\n",
    "\n",
    "sc_x,  X_train_n, X_test_n = normalize_val(X_train , X_test)\n",
    "sc_x_tot, X_n, _ = normalize_val(X, X)"
   ]
  },
  {
   "cell_type": "markdown",
   "id": "05810950",
   "metadata": {},
   "source": [
    "**Dans la partie suivante nous allons entrainer les modèles en séparant nos données en un jeu d'entrainement (2/3) et en un jeu de test (1/3)**"
   ]
  },
  {
   "cell_type": "code",
   "execution_count": 3,
   "id": "6d9338a0",
   "metadata": {},
   "outputs": [
    {
     "name": "stdout",
     "output_type": "stream",
     "text": [
      "Ridge avec Cross Validation avec jeu d'entrainement (2/3) et de test (1/3)\n",
      "\n",
      "alpha = 4.281332398719396 \n",
      "\n",
      "Train - RMSE= 96.00367205810635\n",
      "Train - MAPE= 10.948579326197553 %\n",
      "Test - RMSE= 68.54170062494167\n",
      "Test - MAPE= 7.443857164457535 %\n"
     ]
    }
   ],
   "source": [
    "# Modèle Ridge avec Cross Validation\n",
    "print(\"Ridge avec Cross Validation avec jeu d'entrainement (2/3) et de test (1/3)\\n\")\n",
    "clf_ridge = RidgeCV(alphas=np.logspace(-12,12,20))\n",
    "clf_ridge.fit(X_train_n, Y_train)\n",
    "\n",
    "# Prédictions\n",
    "pred_train = clf_ridge.predict(X_train_n)\n",
    "pred_test = clf_ridge.predict(X_test_n)    \n",
    "\n",
    "# Paramètre\n",
    "print(\"alpha =\",clf_ridge.alpha_,\"\\n\")\n",
    "\n",
    "# Erreur d'entrainement\n",
    "print('Train - RMSE=',RMSE(pred_train,Y_train))\n",
    "print('Train - MAPE=',MAPE(pred_train,Y_train),\"%\")\n",
    "\n",
    "# Erreur de test\n",
    "print('Test - RMSE=',RMSE(pred_test,Y_test))\n",
    "print('Test - MAPE=',MAPE(pred_test,Y_test),\"%\")"
   ]
  },
  {
   "cell_type": "code",
   "execution_count": 4,
   "id": "7010eef8",
   "metadata": {},
   "outputs": [
    {
     "name": "stdout",
     "output_type": "stream",
     "text": [
      "Random Forest avec jeu d'entrainement (2/3) et de test (1/3)\n",
      "\n",
      "Train - RMSE= 52.370528768980364\n",
      "Train - MAPE= 5.424290084200045 %\n",
      "Test - RMSE= 101.30256662477477\n",
      "Test - MAPE= 9.459199991217657 %\n"
     ]
    }
   ],
   "source": [
    "# Modèle des Random forest\n",
    "print(\"Random Forest avec jeu d'entrainement (2/3) et de test (1/3)\\n\")\n",
    "clf_random_forest = RandomForestRegressor(max_depth=10)\n",
    "clf_random_forest.fit(X_train_n, Y_train)\n",
    "\n",
    "# Prédictions\n",
    "pred_train = clf_random_forest.predict(X_train_n)\n",
    "pred_test = clf_random_forest.predict(X_test_n)    \n",
    "\n",
    "# Erreur d'entrainement\n",
    "print('Train - RMSE=',RMSE(pred_train,Y_train))\n",
    "print('Train - MAPE=',MAPE(pred_train,Y_train),\"%\")\n",
    "\n",
    "# Erreur de test\n",
    "print('Test - RMSE=',RMSE(pred_test,Y_test))\n",
    "print('Test - MAPE=',MAPE(pred_test,Y_test),\"%\")"
   ]
  },
  {
   "cell_type": "code",
   "execution_count": 5,
   "id": "b2fdacd6",
   "metadata": {},
   "outputs": [
    {
     "name": "stdout",
     "output_type": "stream",
     "text": [
      "Gaussian Process avec kernel RBF et jeu d'entrainement (2/3) et de test (1/3)\n",
      "\n",
      "Kernel : 316**2 * RBF(length_scale=3.78) \n",
      "\n",
      "Train - RMSE= 4.857157052203716e-12\n",
      "Train - MAPE= 3.9031100281285756e-13 %\n",
      "Test - RMSE= 101.5822753840469\n",
      "Test - MAPE= 10.230060307607301 %\n"
     ]
    },
    {
     "name": "stderr",
     "output_type": "stream",
     "text": [
      "/home/raphael/.local/lib/python3.10/site-packages/sklearn/gaussian_process/kernels.py:430: ConvergenceWarning: The optimal value found for dimension 0 of parameter k1__constant_value is close to the specified upper bound 100000.0. Increasing the bound and calling fit again may find a better value.\n",
      "  warnings.warn(\n"
     ]
    }
   ],
   "source": [
    "# Modèle des processus gaussiens\n",
    "print(\"Gaussian Process avec kernel RBF et jeu d'entrainement (2/3) et de test (1/3)\\n\")\n",
    "kernel = 1 * RBF(length_scale=1, length_scale_bounds=(1e-3,1e2))\n",
    "clf_gaussian = GaussianProcessRegressor(kernel=kernel, n_restarts_optimizer=100)\n",
    "clf_gaussian.fit(X_train_n, Y_train)\n",
    "\n",
    "# Prédictions\n",
    "pred_train = clf_gaussian.predict(X_train_n)\n",
    "pred_test = clf_gaussian.predict(X_test_n)    \n",
    "\n",
    "# Paramètre\n",
    "print(\"Kernel :\",clf_gaussian.kernel_,\"\\n\")\n",
    "\n",
    "# Erreur d'entrainement\n",
    "print('Train - RMSE=',RMSE(pred_train,Y_train))\n",
    "print('Train - MAPE=',MAPE(pred_train,Y_train),\"%\")\n",
    "\n",
    "# Erreur de test\n",
    "print('Test - RMSE=',RMSE(pred_test,Y_test))\n",
    "print('Test - MAPE=',MAPE(pred_test,Y_test),\"%\")"
   ]
  },
  {
   "cell_type": "code",
   "execution_count": 6,
   "id": "bc75eeb7",
   "metadata": {},
   "outputs": [
    {
     "name": "stdout",
     "output_type": "stream",
     "text": [
      "Régression linéaire avec jeu d'entrainement (2/3) et de test (1/3)\n",
      "\n",
      "Train - RMSE= 88.92888856861354\n",
      "Train - MAPE= 10.63805344414866 %\n",
      "Test - RMSE= 69.92068172525845\n",
      "Test - MAPE= 8.185679677154154 %\n"
     ]
    }
   ],
   "source": [
    "# Modèle de régression linéaire\n",
    "print(\"Régression linéaire avec jeu d'entrainement (2/3) et de test (1/3)\\n\")\n",
    "clf_linear = LinearRegression()\n",
    "clf_linear.fit(X_train_n, Y_train)\n",
    "\n",
    "# Prédictions\n",
    "pred_train = clf_linear.predict(X_train_n)\n",
    "pred_test = clf_linear.predict(X_test_n)    \n",
    "\n",
    "# Erreur d'entrainement\n",
    "print('Train - RMSE=',RMSE(pred_train,Y_train))\n",
    "print('Train - MAPE=',MAPE(pred_train,Y_train),\"%\")\n",
    "\n",
    "# Erreur de test\n",
    "print('Test - RMSE=',RMSE(pred_test,Y_test))\n",
    "print('Test - MAPE=',MAPE(pred_test,Y_test),\"%\")"
   ]
  },
  {
   "cell_type": "code",
   "execution_count": 7,
   "id": "5d7e530a",
   "metadata": {},
   "outputs": [
    {
     "name": "stdout",
     "output_type": "stream",
     "text": [
      "LASSO avec Cross Validation avec jeu d'entrainement (2/3) et de test (1/3)\n",
      "\n",
      "Alpha : 3.593813663804626\n",
      "Nombre d'itération : 97 \n",
      "\n",
      "Train - RMSE= 99.22714982140843\n",
      "Train - MAPE= 11.334257516547416 %\n",
      "Test - RMSE= 68.50846457769704\n",
      "Test - MAPE= 7.618568270969107 %\n"
     ]
    }
   ],
   "source": [
    "# Modèle LASSO avec Cross Validation\n",
    "print(\"LASSO avec Cross Validation avec jeu d'entrainement (2/3) et de test (1/3)\\n\")\n",
    "clf_lasso = LassoCV(alphas=np.logspace(-5,5,10), max_iter=100000)\n",
    "clf_lasso.fit(X_train_n, Y_train)\n",
    "\n",
    "# Prédictions\n",
    "pred_train = clf_lasso.predict(X_train_n)\n",
    "pred_test = clf_lasso.predict(X_test_n)    \n",
    "\n",
    "# Paramètres\n",
    "print(\"Alpha :\",clf_lasso.alpha_)\n",
    "print(\"Nombre d'itération :\",clf_lasso.n_iter_,\"\\n\")\n",
    "\n",
    "# Erreur d'entrainement\n",
    "print('Train - RMSE=',RMSE(pred_train,Y_train))\n",
    "print('Train - MAPE=',MAPE(pred_train,Y_train),\"%\")\n",
    "\n",
    "# Erreur de test\n",
    "print('Test - RMSE=',RMSE(pred_test,Y_test))\n",
    "print('Test - MAPE=',MAPE(pred_test,Y_test),\"%\")"
   ]
  },
  {
   "cell_type": "markdown",
   "id": "b70c372c",
   "metadata": {},
   "source": [
    "**Dans la partie suivante nous allons entrainer les mêmes modèles avec toutes les données sans utiliser de jeu de test**"
   ]
  },
  {
   "cell_type": "code",
   "execution_count": 8,
   "id": "79b4c822",
   "metadata": {},
   "outputs": [
    {
     "name": "stdout",
     "output_type": "stream",
     "text": [
      "Ridge sur l'ensemble des données\n",
      "\n",
      "Alpha : 4.281332398719396 \n",
      "\n",
      "Train - RMSE= 84.76484698651021\n",
      "Train - MAPE= 9.508658554161247 %\n"
     ]
    }
   ],
   "source": [
    "# Modèle Ridge appliqué à l'ensemble des variables sans jeu de test\n",
    "print(\"Ridge sur l'ensemble des données\\n\")\n",
    "clf_ridge_triche = Ridge(alpha=clf_ridge.alpha_)\n",
    "clf_ridge_triche.fit(X_n, Y)\n",
    "\n",
    "# Prédiction\n",
    "pred_train = clf_ridge_triche.predict(X_n)\n",
    "\n",
    "# Paramètre\n",
    "print(\"Alpha :\",clf_ridge.alpha_,\"\\n\")\n",
    "\n",
    "# Erreur d'entrainement\n",
    "print('Train - RMSE=',RMSE(pred_train,Y))\n",
    "print('Train - MAPE=',MAPE(pred_train,Y),\"%\")"
   ]
  },
  {
   "cell_type": "code",
   "execution_count": 9,
   "id": "9ec03cdf",
   "metadata": {},
   "outputs": [
    {
     "name": "stdout",
     "output_type": "stream",
     "text": [
      "LASSO sur l'ensemble des données\n",
      "\n",
      "Nombre d'itération : 100\n",
      "Alpha : 3.593813663804626 \n",
      "\n",
      "Train - RMSE= 90.51047511477056\n",
      "Train - MAPE= 10.138116639522043 %\n"
     ]
    }
   ],
   "source": [
    "# Modèle LASSO appliqué à l'ensemble des variables sans jeu de test\n",
    "print(\"LASSO sur l'ensemble des données\\n\")\n",
    "clf_lasso_triche = Lasso(alpha=clf_lasso.alpha_ , max_iter=100000)\n",
    "clf_lasso_triche.fit(X_n, Y)\n",
    "\n",
    "# Prédiction\n",
    "pred_train = clf_lasso_triche.predict(X_n)\n",
    "\n",
    "# Paramètre\n",
    "print(\"Nombre d'itération :\",clf_lasso_triche.n_iter_)\n",
    "print(\"Alpha :\",clf_lasso.alpha_,\"\\n\")\n",
    "\n",
    "# Erreur d'entrainement\n",
    "print('Train - RMSE=',RMSE(pred_train,Y))\n",
    "print('Train - MAPE=',MAPE(pred_train,Y),\"%\")"
   ]
  },
  {
   "cell_type": "code",
   "execution_count": 10,
   "id": "eaf9dd0d",
   "metadata": {},
   "outputs": [
    {
     "name": "stdout",
     "output_type": "stream",
     "text": [
      "Gaussian Process sur l'ensemble des données\n",
      "\n",
      "Train - RMSE= 4.819513474898445e-12\n",
      "Train - MAPE= 4.783196690095543e-13 %\n"
     ]
    },
    {
     "name": "stderr",
     "output_type": "stream",
     "text": [
      "/home/raphael/.local/lib/python3.10/site-packages/sklearn/gaussian_process/kernels.py:430: ConvergenceWarning: The optimal value found for dimension 0 of parameter k1__constant_value is close to the specified upper bound 100000.0. Increasing the bound and calling fit again may find a better value.\n",
      "  warnings.warn(\n"
     ]
    }
   ],
   "source": [
    "# Modèle des processus gaussiens appliqué à l'ensemble des variables sans jeu de test\n",
    "print(\"Gaussian Process sur l'ensemble des données\\n\")\n",
    "clf_gaussian_triche = GaussianProcessRegressor(kernel=kernel, n_restarts_optimizer=100)\n",
    "clf_gaussian_triche.fit(X_n, Y)\n",
    "\n",
    "# Prédiction\n",
    "pred_train = clf_gaussian_triche.predict(X_n)\n",
    "\n",
    "# Erreur d'entrainement\n",
    "print('Train - RMSE=',RMSE(pred_train,Y))\n",
    "print('Train - MAPE=',MAPE(pred_train,Y),\"%\")"
   ]
  },
  {
   "cell_type": "code",
   "execution_count": 11,
   "id": "a23624a3",
   "metadata": {},
   "outputs": [
    {
     "name": "stdout",
     "output_type": "stream",
     "text": [
      "Régression linéaire sur l'ensemble des données\n",
      "\n",
      "Train - RMSE= 80.46505239530222\n",
      "Train - MAPE= 9.211511596773324 %\n"
     ]
    }
   ],
   "source": [
    "# Modèle de régression linéaire appliqué à l'ensemble des variables sans jeu de test\n",
    "print(\"Régression linéaire sur l'ensemble des données\\n\")\n",
    "clf_linear_triche = LinearRegression()\n",
    "clf_linear_triche.fit(X_n, Y)\n",
    "\n",
    "# Prédiction\n",
    "pred_train = clf_linear_triche.predict(X_n)\n",
    "\n",
    "# Erreur d'entrainement\n",
    "print('Train - RMSE=',RMSE(pred_train,Y))\n",
    "print('Train - MAPE=',MAPE(pred_train,Y),\"%\")"
   ]
  },
  {
   "cell_type": "code",
   "execution_count": 12,
   "id": "589a2fc0",
   "metadata": {},
   "outputs": [
    {
     "name": "stdout",
     "output_type": "stream",
     "text": [
      "Random Forest sur l'ensemble des données\n",
      "\n",
      "Train - RMSE= 39.24816814246546\n",
      "Train - MAPE= 3.937498902185573 %\n"
     ]
    }
   ],
   "source": [
    "# Modèle des random forest appliqué à l'ensemble des variables sans jeu de test\n",
    "print(\"Random Forest sur l'ensemble des données\\n\")\n",
    "clf_random_forest_triche = RandomForestRegressor(max_depth=10)\n",
    "clf_random_forest_triche.fit(X_n, Y)\n",
    "\n",
    "# Prédiction\n",
    "pred_train = clf_random_forest_triche.predict(X_n)\n",
    "\n",
    "# Erreur d'entrainement\n",
    "print('Train - RMSE=',RMSE(pred_train,Y))\n",
    "print('Train - MAPE=',MAPE(pred_train,Y),\"%\")"
   ]
  }
 ],
 "metadata": {
  "kernelspec": {
   "display_name": "Python 3 (ipykernel)",
   "language": "python",
   "name": "python3"
  },
  "language_info": {
   "codemirror_mode": {
    "name": "ipython",
    "version": 3
   },
   "file_extension": ".py",
   "mimetype": "text/x-python",
   "name": "python",
   "nbconvert_exporter": "python",
   "pygments_lexer": "ipython3",
   "version": "3.10.6"
  }
 },
 "nbformat": 4,
 "nbformat_minor": 5
}
